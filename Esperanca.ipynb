{
 "cells": [
  {
   "cell_type": "markdown",
   "metadata": {},
   "source": [
    "# Esperança matemática"
   ]
  },
  {
   "cell_type": "markdown",
   "metadata": {},
   "source": [
    "**Exemplo 1** <br>\n",
    "Se um dado for lançado e $ X $ designar o valor obtido. Vamos calcular $\\mu = E(X)$."
   ]
  },
  {
   "cell_type": "code",
   "execution_count": 1,
   "metadata": {},
   "outputs": [
    {
     "name": "stdout",
     "output_type": "stream",
     "text": [
      "Valor médio de 1000 lançamentos: 3.532\n"
     ]
    }
   ],
   "source": [
    "from random import seed\n",
    "from random import randint\n",
    "seed(1) # semente do gerador de números aleatórios\n",
    "\n",
    "mu = 0 # media\n",
    "N = 1000 # numero de lancamentos\n",
    "for n in range(0,N):\n",
    "    mu = mu + randint(1, 6) # valor do dado\n",
    "mu = mu/N\n",
    "print('Valor médio de',N, 'lançamentos:', mu )"
   ]
  },
  {
   "cell_type": "markdown",
   "metadata": {},
   "source": [
    "Exercício: Faça um gráfico do valor médio de X em função do número de lançamento."
   ]
  },
  {
   "cell_type": "markdown",
   "metadata": {},
   "source": [
    "<hr>"
   ]
  },
  {
   "cell_type": "markdown",
   "metadata": {},
   "source": [
    "**Exemplo 2** <br>\n",
    "Um fabricante produz peças tais que $ 10 \\% $ delas são defeituosas e  $ 90 \\% $ são perfeitas. Se uma peça defeituosa for produzida, o fabricante perde $1,00$ real, enquanto \tque uma peça não-defeituosa lhe dá um lucro de $5,00$ reais. Se $X$ for o lucro líquido, calcule $E(X)$.<br>\n",
    "A distribuição de probabilidade do lucro: <br>\n",
    "P(X = -1) = 0.1 e P(X=5) = 0.9<br>\n",
    "Vamos simular esse experimento."
   ]
  },
  {
   "cell_type": "code",
   "execution_count": 2,
   "metadata": {},
   "outputs": [
    {
     "name": "stdout",
     "output_type": "stream",
     "text": [
      "Valor médio do lucro: 4.61 reais por peça\n"
     ]
    }
   ],
   "source": [
    "from random import seed\n",
    "import numpy as np\n",
    "seed(1) # semente do gerador de números aleatórios\n",
    "\n",
    "N = 10000 # numero de peças\n",
    "X = 0 # lucro por peca\n",
    "p = 0.9 # probabilidade de produzir peca perfeita\n",
    "lucro = 5 # lucro por peca\n",
    "prejuizo = -1 # prejuizo por peca\n",
    "for n in range(0,N):\n",
    "    r = np.random.uniform() #\n",
    "    if(r <= p): # se o numero gerado eh maior do que p\n",
    "        X = X + lucro\n",
    "    else: # senao, prejuizo\n",
    "        X = X - prejuizo\n",
    "X = X/N # valor medio\n",
    "print('Valor médio do lucro:', X, 'reais por peça')"
   ]
  },
  {
   "cell_type": "markdown",
   "metadata": {},
   "source": [
    "**Exercício**: Mostre o valor médio do lucro em função do número de peças produzidas, ou seja, um gráfico do lucro X número de peças."
   ]
  },
  {
   "cell_type": "markdown",
   "metadata": {},
   "source": [
    "<hr>"
   ]
  },
  {
   "cell_type": "markdown",
   "metadata": {},
   "source": [
    "**Exemplo 3**<br>\n",
    "Um caça-níquel tem dois discos que funcionam independentemente um do outro. Cada disco tem 10 figuras:\n",
    "* 4 maçãs \n",
    "* 3 bananas\n",
    "* 2 peras\n",
    "* 1 laranja<br>\n",
    "\n",
    "Uma pessoa paga R\\$ 80,00  e acionou a máquina. Se aparecer:<br>\n",
    "* 2 maçãs $\\longrightarrow$ ganha R\\$ 40,00\n",
    "* 2 bananas $\\longrightarrow$ ganha R\\$ 80,00\n",
    "* 2 peras $\\longrightarrow$ ganha R\\$ 140,00\n",
    "* 2 laranjas $\\longrightarrow$ ganha R\\$ 180,00\n",
    "* Se aparecer frutas diferentes, ele não ganha nada.<br>\n",
    "Qual a esperança de ganho em uma única jogada?"
   ]
  },
  {
   "cell_type": "code",
   "execution_count": 3,
   "metadata": {},
   "outputs": [
    {
     "name": "stdout",
     "output_type": "stream",
     "text": [
      "Valor médio do lucro em uma única jogada: -59.44\n"
     ]
    }
   ],
   "source": [
    "import numpy as np\n",
    "from random import seed\n",
    "import random\n",
    "seed(100) # semente do gerador de números aleatórios\n",
    "\n",
    "frutas = [\"Maca\",\"Maca\", \"Maca\", \"Maca\", \"Banana\",\"Banana\",\"Banana\",\"Pera\", \"Pera\",\"Laranja\"]\n",
    "pagamento = 80\n",
    "N = 1000 # numero de jogadas\n",
    "X = 0 # lucro por jogada\n",
    "for n in range(0,N):\n",
    "    disco1 = random.choice(frutas)\n",
    "    disco2 = random.choice(frutas)\n",
    "    if(disco1 == disco2):\n",
    "        if(disco1 == \"Maca\"):\n",
    "            X = X + 40\n",
    "        else:\n",
    "            if(disco1 == \"Banana\"):\n",
    "                X = X + 80\n",
    "            else:\n",
    "                if(disco1 == \"Pera\"):\n",
    "                    X = X + 140\n",
    "                else:\n",
    "                    if(disco1 == \"Laranja\"):\n",
    "                       X = X + 180\n",
    "    X = X - pagamento\n",
    "\n",
    "X = X/N # valor medio\n",
    "print('Valor médio do lucro em uma única jogada:', X)"
   ]
  },
  {
   "cell_type": "markdown",
   "metadata": {},
   "source": [
    "**Exercício** Construa o gráfico do pagamento (valor da ficha) versus o lucro. Para quais valores de pagamento valeria a pena jogar o jogo?"
   ]
  }
 ],
 "metadata": {
  "kernelspec": {
   "display_name": "Python 3",
   "language": "python",
   "name": "python3"
  },
  "language_info": {
   "codemirror_mode": {
    "name": "ipython",
    "version": 3
   },
   "file_extension": ".py",
   "mimetype": "text/x-python",
   "name": "python",
   "nbconvert_exporter": "python",
   "pygments_lexer": "ipython3",
   "version": "3.7.4"
  }
 },
 "nbformat": 4,
 "nbformat_minor": 2
}
