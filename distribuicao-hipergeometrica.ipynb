{
 "cells": [
  {
   "cell_type": "markdown",
   "metadata": {},
   "source": [
    "# Distribuição Hipergeométrica"
   ]
  },
  {
   "cell_type": "markdown",
   "metadata": {},
   "source": [
    "Considere um conjunto de N objetos, dos quais m são do tipo I e N-m são do tipo II. Para um sorteio de r objetos (r<N), feito ao acaso e sem reposição, defina:  X: número de objetos selecionados do tipo I. <br>\n",
    "Então:\n",
    "$$\n",
    "P(X=k)=\\frac{{{N_1}\\choose{k}}{{N_2}\\choose{r-k}}}{{{N}\\choose{r}}}, \\quad N = N_1 + N_2\n",
    "$$"
   ]
  },
  {
   "cell_type": "markdown",
   "metadata": {},
   "source": [
    "Para gerarmos dados com uma distribuição geométrica, podemos usar a biblioteca Numpy."
   ]
  },
  {
   "cell_type": "code",
   "execution_count": 2,
   "metadata": {},
   "outputs": [
    {
     "data": {
      "image/png": "[encoded data removed]",
      "text/plain": [
       "<Figure size 432x288 with 1 Axes>"
      ]
     },
     "metadata": {
      "needs_background": "light"
     },
     "output_type": "display_data"
    },
    {
     "name": "stdout",
     "output_type": "stream",
     "text": [
      "Valor esperado Teórico: 3.36\n",
      "Valor esperado pela simulação: 4.182\n"
     ]
    }
   ],
   "source": [
    "import numpy as np\n",
    "import matplotlib.pyplot as plt\n",
    "\n",
    "N1 = 4 # number de elementos do tipo I\n",
    "N2 = 21 # numero de elementos do tipo II\n",
    "r = 5 # numero de objetos selecionados sem reposicao\n",
    "n = 1000 # numero de pontos extraídos da distribuição hipergeométrica\n",
    "X = np.random.hypergeometric(N2, N1, r, 1000)\n",
    "k = np.arange(0, np.max(X))\n",
    "print(\"Valor esperado Teórico:\", N2*N1/(N1+N2))\n",
    "print(\"Valor esperado pela simulação:\", np.sum(X)/len(X))\n",
    "\n",
    "count, bins, ignored = plt.hist(X, bins=k, density=True, color='#0504aa',alpha=0.7, \n",
    "                                rwidth=0.9)\n",
    "plt.xlabel('k', fontsize = 15)\n",
    "plt.ylabel('P(k)',fontsize = 15)\n",
    "plt.show(True)"
   ]
  },
  {
   "cell_type": "code",
   "execution_count": null,
   "metadata": {},
   "outputs": [],
   "source": []
  }
 ],
 "metadata": {
  "kernelspec": {
   "display_name": "Python 3",
   "language": "python",
   "name": "python3"
  },
  "language_info": {
   "codemirror_mode": {
    "name": "ipython",
    "version": 3
   },
   "file_extension": ".py",
   "mimetype": "text/x-python",
   "name": "python",
   "nbconvert_exporter": "python",
   "pygments_lexer": "ipython3",
   "version": "3.7.4"
  }
 },
 "nbformat": 4,
 "nbformat_minor": 2
}
