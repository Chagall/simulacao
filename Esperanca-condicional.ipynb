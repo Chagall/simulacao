{
 "cells": [
  {
   "cell_type": "markdown",
   "metadata": {},
   "source": [
    "# Esperança Condicional"
   ]
  },
  {
   "cell_type": "markdown",
   "metadata": {},
   "source": [
    "Francisco Aparecido Rodrigues, francisco@icmc.usp.br.<br>\n",
    "Universidade de São Paulo, São Carlos, Brasil.<br>\n",
    "https://sites.icmc.usp.br/francisco <br>\n",
    "Copyright: Creative Commons"
   ]
  },
  {
   "cell_type": "markdown",
   "metadata": {},
   "source": [
    "<hr>"
   ]
  },
  {
   "cell_type": "markdown",
   "metadata": {},
   "source": [
    "Sejam $X$ e $Y$ variáveis aleatórias discretas. Seja ainda $g()$ uma função em que a esperança de $g(X)$ é finita. Denominamos a esperança condicional de $g(X)$ dada a variável aleatória $Y=y$ por:\n",
    "$$\n",
    "E[g(X)|Y=y] = \\sum_x g(x)P(X=x|Y=y)\n",
    "$$"
   ]
  },
  {
   "cell_type": "markdown",
   "metadata": {},
   "source": [
    "**Exemplo:** Um trabalhador está procurando pela saída em uma mina. Ele encontra três passagens exatamente iguais. A primeira leva-o a um túnel que o conduz até a saída em segurança após 2 horas de caminhada. A segunda leva-o ao ponto inicial após 3 horas. A terceira leva-o à posição inicial após 5 horas. Assumindo que o trabalhador tem a mesma probabilidade de escolher qualquer uma das passagens, qual é o número esperado de horas que o trabalhador leva até sair a mina? "
   ]
  },
  {
   "cell_type": "markdown",
   "metadata": {},
   "source": [
    "Vamos simular esse exemplo:"
   ]
  },
  {
   "cell_type": "code",
   "execution_count": 9,
   "metadata": {},
   "outputs": [
    {
     "name": "stdout",
     "output_type": "stream",
     "text": [
      "Tempo até a saída: 10.0951\n"
     ]
    }
   ],
   "source": [
    "import numpy as np\n",
    "import random as random\n",
    "\n",
    "ns = 10000 # numero de simulacoes\n",
    "vt = [] # armazena os tempos\n",
    "for s in range(0,ns):\n",
    "    opcoes = [0,1,2] # opcoes\n",
    "    tempos = [2,3,5]\n",
    "    t = 0\n",
    "    selecionada = -1\n",
    "    while(selecionada != 0):\n",
    "        selecionada = random.choice(opcoes)\n",
    "        t = t + tempos[selecionada]\n",
    "    vt.append(t)\n",
    "print(\"Tempo até a saída:\", np.mean(vt))"
   ]
  },
  {
   "cell_type": "code",
   "execution_count": 7,
   "metadata": {},
   "outputs": [
    {
     "data": {
      "image/png": "[encoded data removed]",
      "text/plain": [
       "<Figure size 720x432 with 1 Axes>"
      ]
     },
     "metadata": {
      "needs_background": "light"
     },
     "output_type": "display_data"
    }
   ],
   "source": [
    "import numpy as np\n",
    "import random as random\n",
    "from matplotlib import pyplot as plt\n",
    "\n",
    "\n",
    "ns = 1000 # numero de simulacoes\n",
    "vmt = []\n",
    "vn = np.arange(1,ns,10)\n",
    "for ns in vn:\n",
    "    vt = [] # armazena os tempos\n",
    "    for s in range(0,ns):\n",
    "        opcoes = [0,1,2] # cavernas\n",
    "        tempos = [2,3,5]\n",
    "        t = 0\n",
    "        selecionada = -1\n",
    "        while(selecionada != 0):\n",
    "            selecionada = random.choice(opcoes)\n",
    "            t = t + tempos[selecionada]\n",
    "        vt.append(t)\n",
    "    vmt.append(np.mean(vt))\n",
    "plt.figure(figsize=(10,6))\n",
    "plt.plot(vn, vmt, 'bo-')\n",
    "plt.axhline(y = 10, color = 'red') # valor teorico\n",
    "plt.show(True)"
   ]
  },
  {
   "cell_type": "code",
   "execution_count": null,
   "metadata": {},
   "outputs": [],
   "source": []
  }
 ],
 "metadata": {
  "kernelspec": {
   "display_name": "Python 3",
   "language": "python",
   "name": "python3"
  },
  "language_info": {
   "codemirror_mode": {
    "name": "ipython",
    "version": 3
   },
   "file_extension": ".py",
   "mimetype": "text/x-python",
   "name": "python",
   "nbconvert_exporter": "python",
   "pygments_lexer": "ipython3",
   "version": "3.7.4"
  }
 },
 "nbformat": 4,
 "nbformat_minor": 2
}
